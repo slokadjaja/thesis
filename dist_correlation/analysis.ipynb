{
 "cells": [
  {
   "cell_type": "code",
   "metadata": {
    "collapsed": true,
    "ExecuteTime": {
     "end_time": "2024-11-04T11:14:40.554589Z",
     "start_time": "2024-11-04T11:14:38.507696Z"
    }
   },
   "source": [
    "import matplotlib.pyplot as plt\n",
    "import pandas as pd\n",
    "from dataset import TSDataset\n",
    "from utils import get_model_and_hyperparams\n",
    "import numpy as np"
   ],
   "outputs": [],
   "execution_count": 1
  },
  {
   "cell_type": "code",
   "source": [
    "def to_np(tensor):\n",
    "   return tensor.squeeze().cpu().detach().numpy()\n",
    "\n",
    "def plot_patches(patch1, patch2):\n",
    "    \"\"\"\n",
    "    method to compare two patches\n",
    "    input: patch1 and patch2 as tensor\n",
    "    \"\"\"\n",
    "    f, a = plt.subplots()\n",
    "    a.plot(to_np(patch1))\n",
    "    a.plot(to_np(patch2))\n",
    "    return f, a\n",
    "\n",
    "def plot_encodings(patch1, patch2):\n",
    "    \"\"\"\n",
    "    method to compare two patch encodings\n",
    "    input: patch1 and patch2 as tensor\n",
    "    \"\"\"\n",
    "    f, a = plt.subplots()\n",
    "    a.hlines(y=to_np(vae.encode(patch1)), xmin=np.arange(n_latent), xmax=np.arange(n_latent)+1)\n",
    "    a.hlines(y=to_np(vae.encode(patch2)), xmin=np.arange(n_latent), xmax=np.arange(n_latent)+1, colors='orange')\n",
    "    return f, a"
   ],
   "metadata": {
    "collapsed": false,
    "ExecuteTime": {
     "end_time": "2024-11-04T11:14:40.563804Z",
     "start_time": "2024-11-04T11:14:40.559477Z"
    }
   },
   "outputs": [],
   "execution_count": 2
  },
  {
   "cell_type": "code",
   "source": [
    "vae, params = get_model_and_hyperparams(\"fc\")\n",
    "n_latent = params.n_latent\n",
    "\n",
    "train_set = TSDataset(params.dataset, \"train\", patch_len=params.patch_len, normalize=params.normalize, norm_method=params.norm_method)\n",
    "patches = train_set.x"
   ],
   "metadata": {
    "collapsed": false,
    "ExecuteTime": {
     "end_time": "2024-11-04T11:16:03.135819Z",
     "start_time": "2024-11-04T11:16:03.086293Z"
    }
   },
   "outputs": [
    {
     "name": "stdout",
     "output_type": "stream",
     "text": [
      "/Users/work/PycharmProjects/thesis\n"
     ]
    }
   ],
   "execution_count": 3
  },
  {
   "cell_type": "code",
   "source": [
    "data = pd.read_csv('distances.csv').loc[:, ['combination', 'hamming', 'l2']]"
   ],
   "metadata": {
    "collapsed": false,
    "ExecuteTime": {
     "end_time": "2024-11-04T11:16:04.073680Z",
     "start_time": "2024-11-04T11:16:03.813551Z"
    }
   },
   "outputs": [],
   "execution_count": 4
  },
  {
   "cell_type": "code",
   "source": [
    "print(f\"0.2 quantile: {data.l2.quantile(0.2)}\")\n",
    "print(f\"0.8 quantile: {data.l2.quantile(0.8)}\")\n"
   ],
   "metadata": {
    "collapsed": false,
    "ExecuteTime": {
     "end_time": "2024-11-04T11:16:04.934580Z",
     "start_time": "2024-11-04T11:16:04.917143Z"
    }
   },
   "outputs": [
    {
     "name": "stdout",
     "output_type": "stream",
     "text": [
      "0.2 quantile: 0.799533884\n",
      "0.8 quantile: 7.7573693200000005\n"
     ]
    }
   ],
   "execution_count": 5
  },
  {
   "cell_type": "markdown",
   "source": [
    "**lower left corner**"
   ],
   "metadata": {
    "collapsed": false
   }
  },
  {
   "cell_type": "code",
   "source": [
    "data.loc[(data.hamming <= 0.05) & (data.l2 <= 1)]"
   ],
   "metadata": {
    "collapsed": false,
    "ExecuteTime": {
     "end_time": "2024-11-04T11:16:06.603249Z",
     "start_time": "2024-11-04T11:16:06.587680Z"
    }
   },
   "outputs": [
    {
     "data": {
      "text/plain": [
       "       combination  hamming        l2\n",
       "13         (0, 14)     0.00  0.011727\n",
       "27         (0, 28)     0.00  0.022467\n",
       "41         (0, 42)     0.00  0.015431\n",
       "55         (0, 56)     0.00  0.009615\n",
       "69         (0, 70)     0.00  0.012644\n",
       "...            ...      ...       ...\n",
       "317970  (789, 793)     0.03  0.437111\n",
       "317975  (790, 791)     0.01  0.210089\n",
       "317978  (790, 794)     0.04  0.879175\n",
       "317982  (791, 792)     0.05  0.538527\n",
       "317984  (791, 794)     0.03  0.725393\n",
       "\n",
       "[45252 rows x 3 columns]"
      ],
      "text/html": [
       "<div>\n",
       "<style scoped>\n",
       "    .dataframe tbody tr th:only-of-type {\n",
       "        vertical-align: middle;\n",
       "    }\n",
       "\n",
       "    .dataframe tbody tr th {\n",
       "        vertical-align: top;\n",
       "    }\n",
       "\n",
       "    .dataframe thead th {\n",
       "        text-align: right;\n",
       "    }\n",
       "</style>\n",
       "<table border=\"1\" class=\"dataframe\">\n",
       "  <thead>\n",
       "    <tr style=\"text-align: right;\">\n",
       "      <th></th>\n",
       "      <th>combination</th>\n",
       "      <th>hamming</th>\n",
       "      <th>l2</th>\n",
       "    </tr>\n",
       "  </thead>\n",
       "  <tbody>\n",
       "    <tr>\n",
       "      <th>13</th>\n",
       "      <td>(0, 14)</td>\n",
       "      <td>0.00</td>\n",
       "      <td>0.011727</td>\n",
       "    </tr>\n",
       "    <tr>\n",
       "      <th>27</th>\n",
       "      <td>(0, 28)</td>\n",
       "      <td>0.00</td>\n",
       "      <td>0.022467</td>\n",
       "    </tr>\n",
       "    <tr>\n",
       "      <th>41</th>\n",
       "      <td>(0, 42)</td>\n",
       "      <td>0.00</td>\n",
       "      <td>0.015431</td>\n",
       "    </tr>\n",
       "    <tr>\n",
       "      <th>55</th>\n",
       "      <td>(0, 56)</td>\n",
       "      <td>0.00</td>\n",
       "      <td>0.009615</td>\n",
       "    </tr>\n",
       "    <tr>\n",
       "      <th>69</th>\n",
       "      <td>(0, 70)</td>\n",
       "      <td>0.00</td>\n",
       "      <td>0.012644</td>\n",
       "    </tr>\n",
       "    <tr>\n",
       "      <th>...</th>\n",
       "      <td>...</td>\n",
       "      <td>...</td>\n",
       "      <td>...</td>\n",
       "    </tr>\n",
       "    <tr>\n",
       "      <th>317970</th>\n",
       "      <td>(789, 793)</td>\n",
       "      <td>0.03</td>\n",
       "      <td>0.437111</td>\n",
       "    </tr>\n",
       "    <tr>\n",
       "      <th>317975</th>\n",
       "      <td>(790, 791)</td>\n",
       "      <td>0.01</td>\n",
       "      <td>0.210089</td>\n",
       "    </tr>\n",
       "    <tr>\n",
       "      <th>317978</th>\n",
       "      <td>(790, 794)</td>\n",
       "      <td>0.04</td>\n",
       "      <td>0.879175</td>\n",
       "    </tr>\n",
       "    <tr>\n",
       "      <th>317982</th>\n",
       "      <td>(791, 792)</td>\n",
       "      <td>0.05</td>\n",
       "      <td>0.538527</td>\n",
       "    </tr>\n",
       "    <tr>\n",
       "      <th>317984</th>\n",
       "      <td>(791, 794)</td>\n",
       "      <td>0.03</td>\n",
       "      <td>0.725393</td>\n",
       "    </tr>\n",
       "  </tbody>\n",
       "</table>\n",
       "<p>45252 rows × 3 columns</p>\n",
       "</div>"
      ]
     },
     "execution_count": 6,
     "metadata": {},
     "output_type": "execute_result"
    }
   ],
   "execution_count": 6
  },
  {
   "cell_type": "code",
   "source": [
    "first = patches[107]\n",
    "second = patches[9]\n",
    "\n",
    "plot_patches(first, second)\n",
    "plot_encodings(first, second)"
   ],
   "metadata": {
    "collapsed": false,
    "ExecuteTime": {
     "end_time": "2024-11-04T11:16:07.722828Z",
     "start_time": "2024-11-04T11:16:07.377364Z"
    }
   },
   "outputs": [
    {
     "data": {
      "text/plain": [
       "(<Figure size 640x480 with 1 Axes>, <Axes: >)"
      ]
     },
     "execution_count": 7,
     "metadata": {},
     "output_type": "execute_result"
    },
    {
     "data": {
      "text/plain": [
       "<Figure size 640x480 with 1 Axes>"
      ],
      "image/png": "[encoded data removed]"
     },
     "metadata": {},
     "output_type": "display_data"
    },
    {
     "data": {
      "text/plain": [
       "<Figure size 640x480 with 1 Axes>"
      ],
      "image/png": "[encoded data removed]"
     },
     "metadata": {},
     "output_type": "display_data"
    }
   ],
   "execution_count": 7
  },
  {
   "cell_type": "markdown",
   "source": [
    "**lower right corner**"
   ],
   "metadata": {
    "collapsed": false
   }
  },
  {
   "cell_type": "code",
   "source": [
    "data.loc[(data.hamming > 0.9) & (data.l2 < 3)]"
   ],
   "metadata": {
    "collapsed": false,
    "ExecuteTime": {
     "end_time": "2024-11-04T11:16:09.439444Z",
     "start_time": "2024-11-04T11:16:09.408382Z"
    }
   },
   "outputs": [
    {
     "data": {
      "text/plain": [
       "       combination  hamming        l2\n",
       "799         (1, 4)     0.98  2.554807\n",
       "800         (1, 5)     0.97  2.370521\n",
       "801         (1, 6)     0.95  1.950836\n",
       "802         (1, 7)     0.95  1.873280\n",
       "803         (1, 8)     0.95  1.540654\n",
       "...            ...      ...       ...\n",
       "317932  (785, 793)     0.97  2.377640\n",
       "317933  (785, 794)     0.95  1.833267\n",
       "317966  (788, 797)     0.92  2.555343\n",
       "317974  (789, 797)     0.94  2.845403\n",
       "317996  (793, 797)     0.92  2.547879\n",
       "\n",
       "[32587 rows x 3 columns]"
      ],
      "text/html": [
       "<div>\n",
       "<style scoped>\n",
       "    .dataframe tbody tr th:only-of-type {\n",
       "        vertical-align: middle;\n",
       "    }\n",
       "\n",
       "    .dataframe tbody tr th {\n",
       "        vertical-align: top;\n",
       "    }\n",
       "\n",
       "    .dataframe thead th {\n",
       "        text-align: right;\n",
       "    }\n",
       "</style>\n",
       "<table border=\"1\" class=\"dataframe\">\n",
       "  <thead>\n",
       "    <tr style=\"text-align: right;\">\n",
       "      <th></th>\n",
       "      <th>combination</th>\n",
       "      <th>hamming</th>\n",
       "      <th>l2</th>\n",
       "    </tr>\n",
       "  </thead>\n",
       "  <tbody>\n",
       "    <tr>\n",
       "      <th>799</th>\n",
       "      <td>(1, 4)</td>\n",
       "      <td>0.98</td>\n",
       "      <td>2.554807</td>\n",
       "    </tr>\n",
       "    <tr>\n",
       "      <th>800</th>\n",
       "      <td>(1, 5)</td>\n",
       "      <td>0.97</td>\n",
       "      <td>2.370521</td>\n",
       "    </tr>\n",
       "    <tr>\n",
       "      <th>801</th>\n",
       "      <td>(1, 6)</td>\n",
       "      <td>0.95</td>\n",
       "      <td>1.950836</td>\n",
       "    </tr>\n",
       "    <tr>\n",
       "      <th>802</th>\n",
       "      <td>(1, 7)</td>\n",
       "      <td>0.95</td>\n",
       "      <td>1.873280</td>\n",
       "    </tr>\n",
       "    <tr>\n",
       "      <th>803</th>\n",
       "      <td>(1, 8)</td>\n",
       "      <td>0.95</td>\n",
       "      <td>1.540654</td>\n",
       "    </tr>\n",
       "    <tr>\n",
       "      <th>...</th>\n",
       "      <td>...</td>\n",
       "      <td>...</td>\n",
       "      <td>...</td>\n",
       "    </tr>\n",
       "    <tr>\n",
       "      <th>317932</th>\n",
       "      <td>(785, 793)</td>\n",
       "      <td>0.97</td>\n",
       "      <td>2.377640</td>\n",
       "    </tr>\n",
       "    <tr>\n",
       "      <th>317933</th>\n",
       "      <td>(785, 794)</td>\n",
       "      <td>0.95</td>\n",
       "      <td>1.833267</td>\n",
       "    </tr>\n",
       "    <tr>\n",
       "      <th>317966</th>\n",
       "      <td>(788, 797)</td>\n",
       "      <td>0.92</td>\n",
       "      <td>2.555343</td>\n",
       "    </tr>\n",
       "    <tr>\n",
       "      <th>317974</th>\n",
       "      <td>(789, 797)</td>\n",
       "      <td>0.94</td>\n",
       "      <td>2.845403</td>\n",
       "    </tr>\n",
       "    <tr>\n",
       "      <th>317996</th>\n",
       "      <td>(793, 797)</td>\n",
       "      <td>0.92</td>\n",
       "      <td>2.547879</td>\n",
       "    </tr>\n",
       "  </tbody>\n",
       "</table>\n",
       "<p>32587 rows × 3 columns</p>\n",
       "</div>"
      ]
     },
     "execution_count": 8,
     "metadata": {},
     "output_type": "execute_result"
    }
   ],
   "execution_count": 8
  },
  {
   "cell_type": "code",
   "source": [
    "first = patches[13]\n",
    "second = patches[467]\n",
    "\n",
    "plot_patches(first, second)\n",
    "plot_encodings(first, second)"
   ],
   "metadata": {
    "collapsed": false,
    "ExecuteTime": {
     "end_time": "2024-11-04T11:16:10.572440Z",
     "start_time": "2024-11-04T11:16:10.391945Z"
    }
   },
   "outputs": [
    {
     "data": {
      "text/plain": [
       "(<Figure size 640x480 with 1 Axes>, <Axes: >)"
      ]
     },
     "execution_count": 9,
     "metadata": {},
     "output_type": "execute_result"
    },
    {
     "data": {
      "text/plain": [
       "<Figure size 640x480 with 1 Axes>"
      ],
      "image/png": "[encoded data removed]"
     },
     "metadata": {},
     "output_type": "display_data"
    },
    {
     "data": {
      "text/plain": [
       "<Figure size 640x480 with 1 Axes>"
      ],
      "image/png": "[encoded data removed]"
     },
     "metadata": {},
     "output_type": "display_data"
    }
   ],
   "execution_count": 9
  },
  {
   "cell_type": "markdown",
   "source": [
    "**upper right corner**"
   ],
   "metadata": {
    "collapsed": false
   }
  },
  {
   "cell_type": "code",
   "source": [
    "data.loc[(data.hamming > 0.9) & (data.l2 > 10)]"
   ],
   "metadata": {
    "collapsed": false,
    "ExecuteTime": {
     "end_time": "2024-11-04T11:16:12.166538Z",
     "start_time": "2024-11-04T11:16:12.156462Z"
    }
   },
   "outputs": [
    {
     "data": {
      "text/plain": [
       "       combination  hamming         l2\n",
       "3189       (4, 12)     0.99  10.339100\n",
       "3203       (4, 26)     0.99  10.307218\n",
       "3217       (4, 40)     0.99  10.294723\n",
       "3231       (4, 54)     0.99  10.379603\n",
       "3245       (4, 68)     0.99  10.382492\n",
       "...            ...      ...        ...\n",
       "317910  (783, 796)     0.93  11.454934\n",
       "317965  (788, 796)     0.99  10.229992\n",
       "317973  (789, 796)     0.99  10.125850\n",
       "318001  (795, 797)     0.96  11.931163\n",
       "318002  (796, 797)     0.93  11.464951\n",
       "\n",
       "[15192 rows x 3 columns]"
      ],
      "text/html": [
       "<div>\n",
       "<style scoped>\n",
       "    .dataframe tbody tr th:only-of-type {\n",
       "        vertical-align: middle;\n",
       "    }\n",
       "\n",
       "    .dataframe tbody tr th {\n",
       "        vertical-align: top;\n",
       "    }\n",
       "\n",
       "    .dataframe thead th {\n",
       "        text-align: right;\n",
       "    }\n",
       "</style>\n",
       "<table border=\"1\" class=\"dataframe\">\n",
       "  <thead>\n",
       "    <tr style=\"text-align: right;\">\n",
       "      <th></th>\n",
       "      <th>combination</th>\n",
       "      <th>hamming</th>\n",
       "      <th>l2</th>\n",
       "    </tr>\n",
       "  </thead>\n",
       "  <tbody>\n",
       "    <tr>\n",
       "      <th>3189</th>\n",
       "      <td>(4, 12)</td>\n",
       "      <td>0.99</td>\n",
       "      <td>10.339100</td>\n",
       "    </tr>\n",
       "    <tr>\n",
       "      <th>3203</th>\n",
       "      <td>(4, 26)</td>\n",
       "      <td>0.99</td>\n",
       "      <td>10.307218</td>\n",
       "    </tr>\n",
       "    <tr>\n",
       "      <th>3217</th>\n",
       "      <td>(4, 40)</td>\n",
       "      <td>0.99</td>\n",
       "      <td>10.294723</td>\n",
       "    </tr>\n",
       "    <tr>\n",
       "      <th>3231</th>\n",
       "      <td>(4, 54)</td>\n",
       "      <td>0.99</td>\n",
       "      <td>10.379603</td>\n",
       "    </tr>\n",
       "    <tr>\n",
       "      <th>3245</th>\n",
       "      <td>(4, 68)</td>\n",
       "      <td>0.99</td>\n",
       "      <td>10.382492</td>\n",
       "    </tr>\n",
       "    <tr>\n",
       "      <th>...</th>\n",
       "      <td>...</td>\n",
       "      <td>...</td>\n",
       "      <td>...</td>\n",
       "    </tr>\n",
       "    <tr>\n",
       "      <th>317910</th>\n",
       "      <td>(783, 796)</td>\n",
       "      <td>0.93</td>\n",
       "      <td>11.454934</td>\n",
       "    </tr>\n",
       "    <tr>\n",
       "      <th>317965</th>\n",
       "      <td>(788, 796)</td>\n",
       "      <td>0.99</td>\n",
       "      <td>10.229992</td>\n",
       "    </tr>\n",
       "    <tr>\n",
       "      <th>317973</th>\n",
       "      <td>(789, 796)</td>\n",
       "      <td>0.99</td>\n",
       "      <td>10.125850</td>\n",
       "    </tr>\n",
       "    <tr>\n",
       "      <th>318001</th>\n",
       "      <td>(795, 797)</td>\n",
       "      <td>0.96</td>\n",
       "      <td>11.931163</td>\n",
       "    </tr>\n",
       "    <tr>\n",
       "      <th>318002</th>\n",
       "      <td>(796, 797)</td>\n",
       "      <td>0.93</td>\n",
       "      <td>11.464951</td>\n",
       "    </tr>\n",
       "  </tbody>\n",
       "</table>\n",
       "<p>15192 rows × 3 columns</p>\n",
       "</div>"
      ]
     },
     "execution_count": 10,
     "metadata": {},
     "output_type": "execute_result"
    }
   ],
   "execution_count": 10
  },
  {
   "cell_type": "code",
   "source": [
    "first = patches[88]\n",
    "second = patches[796]\n",
    "\n",
    "plot_patches(first, second)\n",
    "plot_encodings(first, second)"
   ],
   "metadata": {
    "collapsed": false,
    "ExecuteTime": {
     "end_time": "2024-11-04T11:16:13.341238Z",
     "start_time": "2024-11-04T11:16:13.164259Z"
    }
   },
   "outputs": [
    {
     "data": {
      "text/plain": [
       "(<Figure size 640x480 with 1 Axes>, <Axes: >)"
      ]
     },
     "execution_count": 11,
     "metadata": {},
     "output_type": "execute_result"
    },
    {
     "data": {
      "text/plain": [
       "<Figure size 640x480 with 1 Axes>"
      ],
      "image/png": "[encoded data removed]"
     },
     "metadata": {},
     "output_type": "display_data"
    },
    {
     "data": {
      "text/plain": [
       "<Figure size 640x480 with 1 Axes>"
      ],
      "image/png": "[encoded data removed]"
     },
     "metadata": {},
     "output_type": "display_data"
    }
   ],
   "execution_count": 11
  },
  {
   "cell_type": "markdown",
   "source": [
    "**hamming = 0.2**"
   ],
   "metadata": {
    "collapsed": false
   }
  },
  {
   "cell_type": "code",
   "source": [
    "data.loc[(data.hamming == 0.2)]"
   ],
   "metadata": {
    "collapsed": false,
    "ExecuteTime": {
     "end_time": "2024-11-04T11:16:15.505783Z",
     "start_time": "2024-11-04T11:16:15.497923Z"
    }
   },
   "outputs": [
    {
     "data": {
      "text/plain": [
       "       combination  hamming        l2\n",
       "3185        (4, 8)      0.2  1.045264\n",
       "3201       (4, 24)      0.2  1.489081\n",
       "3215       (4, 38)      0.2  1.483625\n",
       "3227       (4, 50)      0.2  1.041988\n",
       "3241       (4, 64)      0.2  1.035405\n",
       "...            ...      ...       ...\n",
       "317528  (766, 788)      0.2  1.367745\n",
       "317732  (774, 780)      0.2  1.374624\n",
       "317746  (774, 794)      0.2  1.372837\n",
       "317857  (780, 788)      0.2  1.375676\n",
       "317963  (788, 794)      0.2  1.373891\n",
       "\n",
       "[1383 rows x 3 columns]"
      ],
      "text/html": [
       "<div>\n",
       "<style scoped>\n",
       "    .dataframe tbody tr th:only-of-type {\n",
       "        vertical-align: middle;\n",
       "    }\n",
       "\n",
       "    .dataframe tbody tr th {\n",
       "        vertical-align: top;\n",
       "    }\n",
       "\n",
       "    .dataframe thead th {\n",
       "        text-align: right;\n",
       "    }\n",
       "</style>\n",
       "<table border=\"1\" class=\"dataframe\">\n",
       "  <thead>\n",
       "    <tr style=\"text-align: right;\">\n",
       "      <th></th>\n",
       "      <th>combination</th>\n",
       "      <th>hamming</th>\n",
       "      <th>l2</th>\n",
       "    </tr>\n",
       "  </thead>\n",
       "  <tbody>\n",
       "    <tr>\n",
       "      <th>3185</th>\n",
       "      <td>(4, 8)</td>\n",
       "      <td>0.2</td>\n",
       "      <td>1.045264</td>\n",
       "    </tr>\n",
       "    <tr>\n",
       "      <th>3201</th>\n",
       "      <td>(4, 24)</td>\n",
       "      <td>0.2</td>\n",
       "      <td>1.489081</td>\n",
       "    </tr>\n",
       "    <tr>\n",
       "      <th>3215</th>\n",
       "      <td>(4, 38)</td>\n",
       "      <td>0.2</td>\n",
       "      <td>1.483625</td>\n",
       "    </tr>\n",
       "    <tr>\n",
       "      <th>3227</th>\n",
       "      <td>(4, 50)</td>\n",
       "      <td>0.2</td>\n",
       "      <td>1.041988</td>\n",
       "    </tr>\n",
       "    <tr>\n",
       "      <th>3241</th>\n",
       "      <td>(4, 64)</td>\n",
       "      <td>0.2</td>\n",
       "      <td>1.035405</td>\n",
       "    </tr>\n",
       "    <tr>\n",
       "      <th>...</th>\n",
       "      <td>...</td>\n",
       "      <td>...</td>\n",
       "      <td>...</td>\n",
       "    </tr>\n",
       "    <tr>\n",
       "      <th>317528</th>\n",
       "      <td>(766, 788)</td>\n",
       "      <td>0.2</td>\n",
       "      <td>1.367745</td>\n",
       "    </tr>\n",
       "    <tr>\n",
       "      <th>317732</th>\n",
       "      <td>(774, 780)</td>\n",
       "      <td>0.2</td>\n",
       "      <td>1.374624</td>\n",
       "    </tr>\n",
       "    <tr>\n",
       "      <th>317746</th>\n",
       "      <td>(774, 794)</td>\n",
       "      <td>0.2</td>\n",
       "      <td>1.372837</td>\n",
       "    </tr>\n",
       "    <tr>\n",
       "      <th>317857</th>\n",
       "      <td>(780, 788)</td>\n",
       "      <td>0.2</td>\n",
       "      <td>1.375676</td>\n",
       "    </tr>\n",
       "    <tr>\n",
       "      <th>317963</th>\n",
       "      <td>(788, 794)</td>\n",
       "      <td>0.2</td>\n",
       "      <td>1.373891</td>\n",
       "    </tr>\n",
       "  </tbody>\n",
       "</table>\n",
       "<p>1383 rows × 3 columns</p>\n",
       "</div>"
      ]
     },
     "execution_count": 12,
     "metadata": {},
     "output_type": "execute_result"
    }
   ],
   "execution_count": 12
  },
  {
   "cell_type": "code",
   "source": [
    "first = patches[88]\n",
    "second = patches[792]\n",
    "\n",
    "plot_patches(first, second)\n",
    "plot_encodings(first, second)"
   ],
   "metadata": {
    "collapsed": false,
    "ExecuteTime": {
     "end_time": "2024-11-04T11:16:16.377310Z",
     "start_time": "2024-11-04T11:16:16.084475Z"
    }
   },
   "outputs": [
    {
     "data": {
      "text/plain": [
       "(<Figure size 640x480 with 1 Axes>, <Axes: >)"
      ]
     },
     "execution_count": 13,
     "metadata": {},
     "output_type": "execute_result"
    },
    {
     "data": {
      "text/plain": [
       "<Figure size 640x480 with 1 Axes>"
      ],
      "image/png": "[encoded data removed]"
     },
     "metadata": {},
     "output_type": "display_data"
    },
    {
     "data": {
      "text/plain": [
       "<Figure size 640x480 with 1 Axes>"
      ],
      "image/png": "[encoded data removed]"
     },
     "metadata": {},
     "output_type": "display_data"
    }
   ],
   "execution_count": 13
  },
  {
   "metadata": {},
   "cell_type": "code",
   "outputs": [],
   "execution_count": null,
   "source": ""
  }
 ],
 "metadata": {
  "kernelspec": {
   "display_name": "Python 3",
   "language": "python",
   "name": "python3"
  },
  "language_info": {
   "codemirror_mode": {
    "name": "ipython",
    "version": 2
   },
   "file_extension": ".py",
   "mimetype": "text/x-python",
   "name": "python",
   "nbconvert_exporter": "python",
   "pygments_lexer": "ipython2",
   "version": "2.7.6"
  }
 },
 "nbformat": 4,
 "nbformat_minor": 0
}
