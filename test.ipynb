{
 "cells": [
  {
   "cell_type": "code",
   "execution_count": 3,
   "metadata": {},
   "outputs": [],
   "source": [
    "# sax\n",
    "sax_dict = {\n",
    "    30: 104,\n",
    "    14: 48,\n",
    "    3: 110,\n",
    "    15: 86,\n",
    "    24: 42,\n",
    "    11: 55,\n",
    "    20: 48,\n",
    "    25: 37,\n",
    "    21: 45,\n",
    "    16: 78,\n",
    "    10: 56,\n",
    "    18: 54,\n",
    "    1: 3,\n",
    "    6: 47,\n",
    "    13: 64,\n",
    "    31: 87,\n",
    "    17: 85,\n",
    "    8: 50,\n",
    "    12: 68,\n",
    "    23: 36,\n",
    "    5: 55,\n",
    "    19: 68,\n",
    "    2: 75,\n",
    "    9: 55,\n",
    "    4: 91,\n",
    "    7: 34,\n",
    "    27: 11,\n",
    "    29: 19,\n",
    "    22: 40,\n",
    "    28: 16,\n",
    "    26: 13,\n",
    "}\n",
    "\n",
    "# vae\n",
    "vae_dict = {\n",
    "    1: 100,\n",
    "    25: 75,\n",
    "    28: 75,\n",
    "    27: 99,\n",
    "    19: 37,\n",
    "    24: 21,\n",
    "    6: 64,\n",
    "    0: 78,\n",
    "    15: 63,\n",
    "    8: 73,\n",
    "    12: 20,\n",
    "    20: 67,\n",
    "    26: 18,\n",
    "    22: 2,\n",
    "    5: 16,\n",
    "    11: 35,\n",
    "    17: 13,\n",
    "    9: 15,\n",
    "    31: 4,\n",
    "    4: 37,\n",
    "    7: 32,\n",
    "    2: 1,\n",
    "}"
   ]
  },
  {
   "cell_type": "code",
   "execution_count": 5,
   "metadata": {},
   "outputs": [
    {
     "data": {
      "text/plain": [
       "{3: 110,\n",
       " 30: 104,\n",
       " 4: 91,\n",
       " 31: 87,\n",
       " 15: 86,\n",
       " 17: 85,\n",
       " 16: 78,\n",
       " 2: 75,\n",
       " 12: 68,\n",
       " 19: 68,\n",
       " 13: 64,\n",
       " 10: 56,\n",
       " 11: 55,\n",
       " 5: 55,\n",
       " 9: 55,\n",
       " 18: 54,\n",
       " 8: 50,\n",
       " 14: 48,\n",
       " 20: 48,\n",
       " 6: 47,\n",
       " 21: 45,\n",
       " 24: 42,\n",
       " 22: 40,\n",
       " 25: 37,\n",
       " 23: 36,\n",
       " 7: 34,\n",
       " 29: 19,\n",
       " 28: 16,\n",
       " 26: 13,\n",
       " 27: 11,\n",
       " 1: 3}"
      ]
     },
     "execution_count": 5,
     "metadata": {},
     "output_type": "execute_result"
    }
   ],
   "source": [
    "dict(sorted(sax_dict.items(), key=lambda item: item[1], reverse=True))"
   ]
  },
  {
   "cell_type": "code",
   "execution_count": 6,
   "metadata": {},
   "outputs": [
    {
     "data": {
      "text/plain": [
       "{1: 100,\n",
       " 27: 99,\n",
       " 0: 78,\n",
       " 25: 75,\n",
       " 28: 75,\n",
       " 8: 73,\n",
       " 20: 67,\n",
       " 6: 64,\n",
       " 15: 63,\n",
       " 19: 37,\n",
       " 4: 37,\n",
       " 11: 35,\n",
       " 7: 32,\n",
       " 24: 21,\n",
       " 12: 20,\n",
       " 26: 18,\n",
       " 5: 16,\n",
       " 9: 15,\n",
       " 17: 13,\n",
       " 31: 4,\n",
       " 22: 2,\n",
       " 2: 1}"
      ]
     },
     "execution_count": 6,
     "metadata": {},
     "output_type": "execute_result"
    }
   ],
   "source": [
    "dict(sorted(vae_dict.items(), key=lambda item: item[1], reverse=True))"
   ]
  },
  {
   "cell_type": "code",
   "execution_count": null,
   "metadata": {},
   "outputs": [],
   "source": []
  }
 ],
 "metadata": {
  "kernelspec": {
   "display_name": "thesis",
   "language": "python",
   "name": "python3"
  },
  "language_info": {
   "codemirror_mode": {
    "name": "ipython",
    "version": 3
   },
   "file_extension": ".py",
   "mimetype": "text/x-python",
   "name": "python",
   "nbconvert_exporter": "python",
   "pygments_lexer": "ipython3",
   "version": "3.11.9"
  }
 },
 "nbformat": 4,
 "nbformat_minor": 2
}
